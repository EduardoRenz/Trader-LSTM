{
 "metadata": {
  "language_info": {
   "codemirror_mode": {
    "name": "ipython",
    "version": 3
   },
   "file_extension": ".py",
   "mimetype": "text/x-python",
   "name": "python",
   "nbconvert_exporter": "python",
   "pygments_lexer": "ipython3",
   "version": "3.6.5-final"
  },
  "orig_nbformat": 2,
  "kernelspec": {
   "name": "python_defaultSpec_1600948683924",
   "display_name": "Python 3.6.5 64-bit"
  }
 },
 "nbformat": 4,
 "nbformat_minor": 2,
 "cells": [
  {
   "cell_type": "code",
   "execution_count": 1,
   "metadata": {},
   "outputs": [],
   "source": [
    "import requests"
   ]
  },
  {
   "cell_type": "code",
   "execution_count": 32,
   "metadata": {
    "tags": []
   },
   "outputs": [
    {
     "output_type": "stream",
     "name": "stdout",
     "text": "true\n"
    }
   ],
   "source": [
    "bot = requests.session()\n",
    "\n",
    "r = bot.post('http://webfeeder.cedrotech.com/SignIn?login=dudarenz&password=102030')\n",
    "print(r.text)"
   ]
  },
  {
   "cell_type": "code",
   "execution_count": 33,
   "metadata": {
    "tags": []
   },
   "outputs": [
    {
     "output_type": "stream",
     "name": "stdout",
     "text": "{\"symbol\":\"dolv20\",\"timeUpdate\":\"24-09-2020 09:50:54\",\"dateTrade\":\"24-09-2020 00:00:00\",\"lastTrade\":5597.5,\"previous\":5591.5,\"change\":0.10730028,\"changeMonth\":1.809752,\"bid\":5597.0,\"ask\":5598.0,\"timeLastTrade\":\"24-09-2020 09:50:54\",\"dateTradeObj\":\"Sep 24, 2020 12:00:00 AM\",\"quantity\":5.0,\"quantityLast\":5.0,\"quantityTrades\":6631.0,\"volumeAmount\":40715.0,\"volumeFinancier\":1.11517727E10,\"high\":5600.0,\"low\":5565.0,\"open\":5594.5,\"volumeBid\":15.0,\"volumeAsk\":20.0,\"volumeBetterBid\":5.0,\"volumeBetterAsk\":5.0,\"lastTradeLastWeek\":5393.0,\"lastTradeLastMonth\":5498.0,\"lastTradeLastYear\":4067.01,\"playerBid\":\"1618\",\"interest\":579051.0,\"situation\":\"0\",\"average\":5585.138,\"execPrice\":0.0,\"tickSize\":3,\"timeLastTradeSting\":\"095054\",\"dateLastTradeString\":\"20200924\",\"marketCode\":3,\"contractMultiplier\":50.0,\"volumeAverageLast20Days\":283008.0,\"marketCap\":0.0,\"variation7Days\":0.0,\"variation1Month\":0.0,\"variation1Year\":0.0,\"variationVolumeInHour\":87.4238,\"variationVolumeToHour\":87.4238,\"variationVolumeInDay\":0.0,\"theoryPrice\":0.0,\"theoryQuantity\":0.0,\"loteDefault\":5,\"minIntervalIncrPrice\":0.5,\"quotationForm\":1,\"adjustmentDay\":0.0,\"adjustmentPreviousDay\":5573.759,\"company\":\"DOLAR OUT/20\",\"typeOption\":\"E\",\"directionOption\":\"P\",\"parentSymbol\":\"0\"}\n"
    }
   ],
   "source": [
    "dados = bot.get('http://webfeeder.cedrotech.com/services/quotes/quote/dolv20')\n",
    "print(dados.text)"
   ]
  },
  {
   "cell_type": "code",
   "execution_count": 38,
   "metadata": {},
   "outputs": [
    {
     "output_type": "execute_result",
     "data": {
      "text/plain": "{'User-Agent': 'python-requests/2.22.0', 'Accept-Encoding': 'gzip, deflate', 'Accept': '*/*', 'Connection': 'keep-alive', 'Cookie': 'JSESSIONID=IQS9mE2scpJ-a3fdPM8WsNrRM6lATBC-fh48rtIP.cdrdiveovm-178; l1=http://10.154.9.178'}"
     },
     "metadata": {},
     "execution_count": 38
    }
   ],
   "source": [
    "dados.request.headers"
   ]
  }
 ]
}